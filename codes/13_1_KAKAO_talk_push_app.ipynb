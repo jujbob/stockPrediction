{
  "nbformat": 4,
  "nbformat_minor": 0,
  "metadata": {
    "colab": {
      "provenance": []
    },
    "kernelspec": {
      "name": "python3",
      "display_name": "Python 3"
    },
    "language_info": {
      "name": "python"
    }
  },
  "cells": [
    {
      "cell_type": "markdown",
      "source": [
        "# 카카오톡을 이용한 메시지 보내기\n",
        " - ref: https://wooiljeong.github.io/python/pykakao-message/\n",
        " - ref: https://github.com/K-Junyyy/MUSINSA-CRWALING"
      ],
      "metadata": {
        "id": "VvjWk-jzJuwW"
      }
    },
    {
      "cell_type": "code",
      "source": [
        "!pip install PyKakao"
      ],
      "metadata": {
        "colab": {
          "base_uri": "https://localhost:8080/"
        },
        "id": "qK0g83Jaorhk",
        "outputId": "1a25d797-3a02-4066-e76f-1e4b368ded24"
      },
      "execution_count": null,
      "outputs": [
        {
          "output_type": "stream",
          "name": "stdout",
          "text": [
            "Looking in indexes: https://pypi.org/simple, https://us-python.pkg.dev/colab-wheels/public/simple/\n",
            "Requirement already satisfied: PyKakao in /usr/local/lib/python3.10/dist-packages (0.0.4)\n",
            "Requirement already satisfied: pandas in /usr/local/lib/python3.10/dist-packages (from PyKakao) (1.5.3)\n",
            "Requirement already satisfied: requests in /usr/local/lib/python3.10/dist-packages (from PyKakao) (2.27.1)\n",
            "Requirement already satisfied: Pillow in /usr/local/lib/python3.10/dist-packages (from PyKakao) (8.4.0)\n",
            "Requirement already satisfied: python-dateutil>=2.8.1 in /usr/local/lib/python3.10/dist-packages (from pandas->PyKakao) (2.8.2)\n",
            "Requirement already satisfied: pytz>=2020.1 in /usr/local/lib/python3.10/dist-packages (from pandas->PyKakao) (2022.7.1)\n",
            "Requirement already satisfied: numpy>=1.21.0 in /usr/local/lib/python3.10/dist-packages (from pandas->PyKakao) (1.22.4)\n",
            "Requirement already satisfied: urllib3<1.27,>=1.21.1 in /usr/local/lib/python3.10/dist-packages (from requests->PyKakao) (1.26.15)\n",
            "Requirement already satisfied: certifi>=2017.4.17 in /usr/local/lib/python3.10/dist-packages (from requests->PyKakao) (2022.12.7)\n",
            "Requirement already satisfied: charset-normalizer~=2.0.0 in /usr/local/lib/python3.10/dist-packages (from requests->PyKakao) (2.0.12)\n",
            "Requirement already satisfied: idna<4,>=2.5 in /usr/local/lib/python3.10/dist-packages (from requests->PyKakao) (3.4)\n",
            "Requirement already satisfied: six>=1.5 in /usr/local/lib/python3.10/dist-packages (from python-dateutil>=2.8.1->pandas->PyKakao) (1.16.0)\n"
          ]
        }
      ]
    },
    {
      "cell_type": "code",
      "source": [
        "from PyKakao import Message\n",
        "api = Message(service_key = \"6ffdaa0ab320548eab2c8b3494991f3f\")"
      ],
      "metadata": {
        "id": "tj_CydlvW7gE"
      },
      "execution_count": null,
      "outputs": []
    },
    {
      "cell_type": "code",
      "source": [
        "auth_url = api.get_url_for_generating_code()\n",
        "print(auth_url)"
      ],
      "metadata": {
        "colab": {
          "base_uri": "https://localhost:8080/"
        },
        "id": "K5wXTMFBoelL",
        "outputId": "aed236e5-85dc-4eca-9441-4ec0be81d91a"
      },
      "execution_count": null,
      "outputs": [
        {
          "output_type": "stream",
          "name": "stdout",
          "text": [
            "https://accounts.kakao.com/login?continue=https%3A%2F%2Fkauth.kakao.com%2Foauth%2Fauthorize%3Fscope%3Dtalk_message%26response_type%3Dcode%26redirect_uri%3Dhttps%253A%252F%252Flocalhost%253A5000%26through_account%3Dtrue%26client_id%3D6ffdaa0ab320548eab2c8b3494991f3f\n"
          ]
        }
      ]
    },
    {
      "cell_type": "code",
      "source": [
        "url = \"https://localhost:5000/?code=oMxW1LQrEfuoIxfJwsys2p7BW5-m2o4cI_mZcyjZeOlG8TTIS05cERT4bLSAflzlIu9hJQo9dVoAAAGIBWALLw\""
      ],
      "metadata": {
        "id": "-WBQdwo1pLy_"
      },
      "execution_count": null,
      "outputs": []
    },
    {
      "cell_type": "code",
      "source": [
        "access_token = api.get_access_token_by_redirected_url(url)"
      ],
      "metadata": {
        "id": "35pE29C9pWEd"
      },
      "execution_count": null,
      "outputs": []
    },
    {
      "cell_type": "code",
      "source": [
        "api.set_access_token(access_token)"
      ],
      "metadata": {
        "colab": {
          "base_uri": "https://localhost:8080/"
        },
        "id": "0Nj9GGzHpYaE",
        "outputId": "f7cd0e39-fedd-4645-a95a-e8b174b8829b"
      },
      "execution_count": null,
      "outputs": [
        {
          "output_type": "stream",
          "name": "stdout",
          "text": [
            "액세스 토큰 설정 완료\n"
          ]
        }
      ]
    },
    {
      "cell_type": "code",
      "source": [
        "text = \"NCSOFT 곧 4%떡락간다 얼른팔아라\"\n",
        "link = {\n",
        "            \"web_url\": \"https://developers.kakao.com\",\n",
        "            \"mobile_web_url\": \"https://developers.kakao.com\"\n",
        "        }\n",
        "button_title = \"바로 확인\"\n",
        "api.send_text(text=text, link={}, button_title=button_title, )"
      ],
      "metadata": {
        "colab": {
          "base_uri": "https://localhost:8080/"
        },
        "id": "GzcoVVEfIdLx",
        "outputId": "d1702692-1d2a-45c7-842c-d04c8663e648"
      },
      "execution_count": null,
      "outputs": [
        {
          "output_type": "stream",
          "name": "stdout",
          "text": [
            "메시지 전송 성공\n"
          ]
        }
      ]
    },
    {
      "cell_type": "code",
      "source": [
        "from PyKakao import KoGPT\n",
        "\n",
        "GPT = KoGPT(service_key = \"6ffdaa0ab320548eab2c8b3494991f3f\")\n",
        "\n",
        "# 다음 문장 만들기\n",
        "prompt = \"\"\n",
        "max_tokens = 64\n",
        "result = GPT.generate(prompt, max_tokens, temperature=0.7, top_p=0.8)"
      ],
      "metadata": {
        "id": "kh6s7iFMKlqb"
      },
      "execution_count": null,
      "outputs": []
    },
    {
      "cell_type": "code",
      "source": [
        "result"
      ],
      "metadata": {
        "colab": {
          "base_uri": "https://localhost:8080/"
        },
        "id": "m7CUd3f9Ko-b",
        "outputId": "23905324-5109-4282-a7f8-c3171a394843"
      },
      "execution_count": null,
      "outputs": [
        {
          "output_type": "execute_result",
          "data": {
            "text/plain": [
              "{'code': -2, 'msg': 'bad request'}"
            ]
          },
          "metadata": {},
          "execution_count": 19
        }
      ]
    },
    {
      "cell_type": "code",
      "source": [
        "import requests\n",
        "import json"
      ],
      "metadata": {
        "id": "MYNRIo0kKva0"
      },
      "execution_count": null,
      "outputs": []
    },
    {
      "cell_type": "code",
      "source": [
        "url = \"https://kauth.kakao.com/oauth/token\"\n",
        "\n",
        "data = {\n",
        "    \"grant_type\": \"authorization_code\",\n",
        "    \"client_id\": \"6ffdaa0ab320548eab2c8b3494991f3f\",\n",
        "    \"redirect_url\": \"redirect_url\",\n",
        "    \"code\": \"authorize_code\"\n",
        "\n",
        "}\n",
        "\n",
        "response = requests.post(url, data=data)\n",
        "tokens = response.json()\n",
        "print(tokens)"
      ],
      "metadata": {
        "colab": {
          "base_uri": "https://localhost:8080/"
        },
        "id": "uuPBvwGeNSxe",
        "outputId": "52433c86-cb9d-4651-8ad4-420769adb763"
      },
      "execution_count": null,
      "outputs": [
        {
          "output_type": "stream",
          "name": "stdout",
          "text": [
            "{'error': 'invalid_client', 'error_description': 'Not exist client_id [rest_api_key]', 'error_code': 'KOE101'}\n"
          ]
        }
      ]
    },
    {
      "cell_type": "code",
      "source": [],
      "metadata": {
        "id": "AgtE43-fN2bc"
      },
      "execution_count": null,
      "outputs": []
    }
  ]
}